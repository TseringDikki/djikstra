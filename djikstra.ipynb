{
 "cells": [
  {
   "cell_type": "code",
   "execution_count": 6,
   "metadata": {},
   "outputs": [],
   "source": [
    "import sys\n",
    "\n",
    "class Vertex():\n",
    "    def __init__(self,name):\n",
    "        self.name=name\n",
    "        self.predeccesor=None #parent node\n",
    "        self.adjacencies=[]\n",
    "        self.min_distance=sys.maxsize\n",
    "        \n",
    "    def __lt__(self,other):\n",
    "        self_priority  = self.min_distance\n",
    "        other_priority = other.min_distance\n",
    "        \n",
    "        return self_priority<other_priority\n",
    "        "
   ]
  },
  {
   "cell_type": "code",
   "execution_count": 14,
   "metadata": {},
   "outputs": [],
   "source": [
    "class Edge():\n",
    "    def __init__(self,weight,start_vertex,target_vertex):\n",
    "        self.weight=weight\n",
    "        self.start_vertex=start_vertex\n",
    "        self.target_vertex=target_vertex\n",
    "     "
   ]
  },
  {
   "cell_type": "code",
   "execution_count": 22,
   "metadata": {},
   "outputs": [],
   "source": [
    "import heapq\n",
    "def calculate_shortest_path(vertex_list,start_vertex):\n",
    "        start_vertex.min_distance=0\n",
    "        queue=[]\n",
    "        heapq.heappush(queue,start_vertex)\n",
    "        \n",
    "        while queue:\n",
    "            actual_vertex=heapq.heappop(queue)\n",
    "            \n",
    "            for edge in actual_vertex.adjacencies:\n",
    "                u=edge.start_vertex\n",
    "                v=edge.target_vertex\n",
    "                \n",
    "                new_distance=u.min_distance+edge.weight\n",
    "                if new_distance<v.min_distance:\n",
    "                    v.min_distance=new_distance\n",
    "                    v.predecessor=u\n",
    "                    heapq.heappush(queue,v)\n",
    "                "
   ]
  },
  {
   "cell_type": "code",
   "execution_count": 24,
   "metadata": {},
   "outputs": [],
   "source": [
    "node_A = Vertex(\"A\")\n",
    "node_B = Vertex(\"B\")\n",
    "node_C = Vertex(\"C\")\n",
    "node_D = Vertex(\"D\")\n",
    "node_E = Vertex(\"E\")\n",
    "node_F = Vertex(\"F\")\n",
    "node_G = Vertex(\"G\")\n",
    "\n",
    "edge_1 = Edge(7,node_A,node_B)\n",
    "edge_2 = Edge(5,node_A,node_D)\n",
    "edge_3 = Edge(8,node_B,node_C)\n",
    "edge_4 = Edge(9,node_B,node_D)\n",
    "edge_5 = Edge(7,node_B,node_E)\n",
    "edge_6 = Edge(5,node_C,node_E)\n",
    "edge_7 = Edge(15,node_D,node_E)\n",
    "edge_8 = Edge(6,node_D,node_F)\n",
    "edge_9 = Edge(8,node_E,node_F)\n",
    "edge_10 = Edge(9,node_E,node_G)\n",
    "edge_11 = Edge(11,node_F,node_G)\n",
    "\n",
    "node_A.adjacencies.extend([edge_1,edge_2])\n",
    "node_B.adjacencies.extend([edge_3,edge_4,edge_5])\n",
    "node_C.adjacencies.extend([edge_6])\n",
    "node_D.adjacencies.extend([edge_7,edge_8])\n",
    "node_E.adjacencies.extend([edge_9,edge_10])\n",
    "node_F.adjacencies.extend([edge_11])\n",
    "\n",
    "vertex_list=(node_A,node_B,node_C,node_D,node_E,node_F)\n",
    "\n",
    "calculate_shortest_path(vertex_list,node_A)"
   ]
  },
  {
   "cell_type": "code",
   "execution_count": null,
   "metadata": {},
   "outputs": [],
   "source": []
  }
 ],
 "metadata": {
  "kernelspec": {
   "display_name": "Python 3",
   "language": "python",
   "name": "python3"
  },
  "language_info": {
   "codemirror_mode": {
    "name": "ipython",
    "version": 3
   },
   "file_extension": ".py",
   "mimetype": "text/x-python",
   "name": "python",
   "nbconvert_exporter": "python",
   "pygments_lexer": "ipython3",
   "version": "3.6.5"
  }
 },
 "nbformat": 4,
 "nbformat_minor": 2
}
